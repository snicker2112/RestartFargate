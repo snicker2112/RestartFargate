{
 "cells": [
  {
   "attachments": {},
   "cell_type": "markdown",
   "metadata": {},
   "source": [
    "#### Fargate restart python script including user input or programmatic input\n",
    "\n",
    "The script is designed to automate the process of restarting a service in Amazon ECS Fargate. Here's a breakdown of the different functions in the script:\n",
    "\n",
    "    check_prerequisites(): This function checks if awscli and boto3 are installed by attempting to import them. If either module is not installed, it prompts the user to confirm whether they want to install them using pip. If the user confirms, it installs the missing module.\n",
    "\n",
    "    configure_aws_credentials(): This function prompts the user to select between using a named AWS CLI profile or programmatically configuring their AWS credentials. If the user chooses to use a named profile, it prompts the user to enter the name of their profile. If the user chooses to configure their credentials programmatically, it prompts the user to enter their AWS access key ID, secret access key, and preferred AWS region name. It then creates a boto3.Session object with the selected configuration and returns the session.\n",
    "\n",
    "    test_aws_connectivity(session): This function takes a boto3.Session object as input and tests the AWS connectivity by making a simple call to the describe_instances() method of the EC2 client. If the connection fails, an error message is printed and the script exits.\n",
    "\n",
    "    select_service_to_restart(session): This function takes a boto3.Session object as input and prompts the user to enter the name of their ECS cluster. It then retrieves a list of all the services in the selected cluster using the list_services() method of the ECS client. It then prompts the user to select a service to restart by entering the number of the service in the list. It then restarts the selected service by calling the update_service() method of the ECS client with the forceNewDeployment=True parameter.\n",
    "\n",
    "    test_service_restart(session): This function takes a boto3.Session object as input and prompts the user to enter the name of the ECS cluster and the name of the service to test. It then retrieves a list of all the tasks in the selected service using the list_tasks() method of the ECS client. It waits for the tasks to stop by repeatedly calling the describe_tasks() method until the task count is 0. Finally, it confirms that the service has restarted successfully by calling the list_tasks() method again and checking if the task count is greater than 0.\n",
    "\n",
    "Here's the main program flow of the script:\n",
    "\n",
    "    Check if AWS CLI and Boto3 are installed using check_prerequisites().\n",
    "\n",
    "    Configure AWS credentials using configure_aws_credentials().\n",
    "\n",
    "    Test AWS connectivity using test_aws_connectivity().\n",
    "\n",
    "    Select a service to restart using select_service_to_restart().\n",
    "\n",
    "    Test if service restart is successful using test_service_restart()."
   ]
  },
  {
   "attachments": {},
   "cell_type": "markdown",
   "metadata": {},
   "source": [
    "### Diagram of solution"
   ]
  },
  {
   "cell_type": "code",
   "execution_count": null,
   "metadata": {},
   "outputs": [],
   "source": [
    "                                +----------------------+\n",
    "                                |   Prerequisites Check |\n",
    "                                +----------------------+\n",
    "                                            |\n",
    "                                            |\n",
    "                                            v\n",
    "                                +----------------------+\n",
    "                                |   AWS Configuration   |\n",
    "                                +----------------------+\n",
    "                                            |\n",
    "                                            |\n",
    "                                            v\n",
    "                                +----------------------+\n",
    "                                |  AWS Connectivity Test|\n",
    "                                +----------------------+\n",
    "                                            |\n",
    "                                            |\n",
    "                                            v\n",
    "                                +----------------------+\n",
    "                                |   Cluster Selection   |\n",
    "                                +----------------------+\n",
    "                                            |\n",
    "                                            |\n",
    "                                            v\n",
    "                                +----------------------+\n",
    "                                |   Service Selection   |\n",
    "                                +----------------------+\n",
    "                                            |\n",
    "                                            |\n",
    "                                            v\n",
    "                                +----------------------+\n",
    "                                |  Restart Confirmation |\n",
    "                                +----------------------+\n",
    "                                            |\n",
    "                                            |\n",
    "                                            v\n",
    "                                +----------------------+\n",
    "                                |    Service Restart   |\n",
    "                                +----------------------+\n",
    "                                            |\n",
    "                                            |\n",
    "                                            v\n",
    "                                +----------------------+\n",
    "                                |  Service Restart Test|\n",
    "                                +----------------------+\n"
   ]
  },
  {
   "attachments": {},
   "cell_type": "markdown",
   "metadata": {},
   "source": [
    "### Restart Fargate BY FUNCTION For Notebook use"
   ]
  },
  {
   "attachments": {},
   "cell_type": "markdown",
   "metadata": {},
   "source": [
    "## here is the check_prerequisites() function:"
   ]
  },
  {
   "cell_type": "code",
   "execution_count": null,
   "metadata": {},
   "outputs": [],
   "source": [
    "import os\n",
    "import sys\n",
    "import subprocess\n",
    "import boto3\n",
    "\n",
    "# Check if AWS CLI and Boto3 are installed\n",
    "def check_prerequisites():\n",
    "    \"\"\"\n",
    "    Check if AWS CLI and Boto3 are installed.\n",
    "    If not, prompt the user to install them using pip.\n",
    "    \"\"\"\n",
    "    try:\n",
    "        subprocess.check_output([\"aws\", \"--version\"])\n",
    "        subprocess.check_output([\"pip\", \"show\", \"boto3\"])\n",
    "    except (subprocess.CalledProcessError, FileNotFoundError):\n",
    "        print(\"Error: AWS CLI and/or Boto3 is not installed.\")\n",
    "        install_prerequisites = input(\"Do you want to install AWS CLI and Boto3? (y/n): \")\n",
    "        if install_prerequisites.lower() == \"y\":\n",
    "            try:\n",
    "                subprocess.check_output([\"pip\", \"install\", \"awscli\", \"boto3\"])\n",
    "                print(\"AWS CLI and Boto3 have been installed successfully.\")\n",
    "            except subprocess.CalledProcessError:\n",
    "                print(\"Error: Failed to install AWS CLI and/or Boto3.\")\n",
    "        else:\n",
    "            sys.exit()"
   ]
  },
  {
   "attachments": {},
   "cell_type": "markdown",
   "metadata": {},
   "source": [
    "This function checks if the AWS CLI and Boto3 are installed on the user's system by trying to run the aws --version and pip show boto3 commands using the subprocess.check_output() method.\n",
    "\n",
    "If either command fails with a CalledProcessError or FileNotFoundError, it means that the corresponding software is not installed. The function prompts the user to install them using pip by typing 'y' or 'n'.\n",
    "\n",
    "If the user chooses to install the missing software, the function runs the pip install awscli boto3 command using the subprocess.check_output() method to install the software. If the installation fails, the function prints an appropriate error message.\n",
    "\n",
    "The AWS CLI calls used in this function are:\n",
    "\n",
    "    subprocess.check_output([\"aws\", \"--version\"]): This call checks if the AWS CLI is installed by running the aws --version command.\n",
    "    subprocess.check_output([\"pip\", \"show\", \"boto3\"]): This call checks if Boto3 is installed by running the pip show boto3 command.\n",
    "    subprocess.check_output([\"pip\", \"install\", \"awscli\", \"boto3\"]): This call installs AWS CLI and Boto3 using the pip install awscli boto3 command."
   ]
  },
  {
   "attachments": {},
   "cell_type": "markdown",
   "metadata": {},
   "source": [
    "## configure_aws_credentials"
   ]
  },
  {
   "cell_type": "code",
   "execution_count": null,
   "metadata": {},
   "outputs": [],
   "source": [
    "# Configure AWS credentials\n",
    "def configure_aws_credentials():\n",
    "    \"\"\"\n",
    "    Configure AWS credentials either by using a named profile or programmatically.\n",
    "    \"\"\"\n",
    "    config_type = input(\"Choose your AWS credentials configuration type (named profile/programmatic): \")\n",
    "    if config_type.lower() == \"named profile\":\n",
    "        profile_name = input(\"Enter the name of your AWS CLI profile: \")\n",
    "        session = boto3.Session(profile_name=profile_name)\n",
    "    elif config_type.lower() == \"programmatic\":\n",
    "        access_key_id = input(\"Enter your AWS access key ID: \")\n",
    "        secret_access_key = input(\"Enter your AWS secret access key: \")\n",
    "        region_name = input(\"Enter your preferred AWS region name: \")\n",
    "        session = boto3.Session(\n",
    "            aws_access_key_id=access_key_id,\n",
    "            aws_secret_access_key=secret_access_key,\n",
    "            region_name=region_name\n",
    "        )\n",
    "    else:\n",
    "        print(\"Invalid configuration type.\")\n",
    "        configure_aws_credentials()\n",
    "\n",
    "    return session\n"
   ]
  },
  {
   "attachments": {},
   "cell_type": "markdown",
   "metadata": {},
   "source": [
    "This function prompts the user to choose a type of AWS credentials configuration: named profile or programmatic.\n",
    "\n",
    "If the user selects \"named profile\", the function prompts the user to enter the name of their AWS CLI profile using the input() function. It then creates a new Boto3 session with the specified named profile using the boto3.Session(profile_name=profile_name) method.\n",
    "\n",
    "If the user selects \"programmatic\", the function prompts the user to enter their AWS access key ID, secret access key, and preferred AWS region name using the input() function. It then creates a new Boto3 session with the specified programmatic configuration using the boto3.Session(aws_access_key_id=access_key_id, aws_secret_access_key=secret_access_key, region_name=region_name) method.\n",
    "\n",
    "If the user enters an invalid configuration type, the function prints an error message and calls itself recursively to prompt the user again.\n",
    "\n",
    "The AWS CLI calls used in this function are all handled internally by Boto3 and include the following AWS APIs:\n",
    "\n",
    "    boto3.Session(profile_name=profile_name): This call creates a new Boto3 session with the specified named profile.\n",
    "    boto3.Session(aws_access_key_id=access_key_id, aws_secret_access_key=secret_access_key, region_name=region_name): This call creates a new Boto3 session with the specified programmatic configuration.\n",
    "\n"
   ]
  },
  {
   "attachments": {},
   "cell_type": "markdown",
   "metadata": {},
   "source": [
    "## test_aws_connectivity"
   ]
  },
  {
   "cell_type": "code",
   "execution_count": null,
   "metadata": {},
   "outputs": [],
   "source": [
    "# Test AWS connectivity\n",
    "def test_aws_connectivity(session):\n",
    "    \"\"\"\n",
    "    Test AWS connectivity by trying to retrieve information from EC2.\n",
    "    \"\"\"\n",
    "    try:\n",
    "        ec2_client = session.client(\"ec2\")\n",
    "        ec2_client.describe_instances()\n",
    "        print(\"AWS connectivity test passed.\")\n",
    "    except:\n",
    "        print(\"Error: AWS connectivity test failed.\")\n",
    "        sys.exit()\n"
   ]
  },
  {
   "attachments": {},
   "cell_type": "markdown",
   "metadata": {},
   "source": [
    "This function tests the connectivity to the AWS service by creating an EC2 client using the session.client(\"ec2\") method of the Boto3 Session object and trying to retrieve information about EC2 instances using the ec2_client.describe_instances() method. If the call succeeds, it prints a message that the AWS connectivity test has passed. If the call fails, it prints an error message and exits the program using sys.exit().\n",
    "\n",
    "The AWS CLI calls used in this function are:\n",
    "\n",
    "    session.client(\"ec2\"): This call creates an EC2 client using the Boto3 Session object.\n",
    "    ec2_client.describe_instances(): This call tries to retrieve information about EC2 instances."
   ]
  },
  {
   "attachments": {},
   "cell_type": "markdown",
   "metadata": {},
   "source": [
    "## select_service_to_restart() function:"
   ]
  },
  {
   "cell_type": "code",
   "execution_count": null,
   "metadata": {},
   "outputs": [],
   "source": [
    "# List Fargate instances and select a service to restart\n",
    "def select_service_to_restart(session):\n",
    "    \"\"\"\n",
    "    List all available ECS clusters and prompt the user to choose one.\n",
    "    Then list all services in the selected cluster and prompt the user to choose one to restart.\n",
    "    \"\"\"\n",
    "    fargate_client = session.client(\"ecs\")\n",
    "    clusters = fargate_client.list_clusters()[\"clusterArns\"]\n",
    "    if len(clusters) == 0:\n",
    "        print(\"Error: No ECS clusters found.\")\n",
    "        sys.exit()\n",
    "    else:\n",
    "        print(\"Available ECS clusters:\")\n",
    "        for i, cluster in enumerate(clusters):\n",
    "            print(f\"{i+1}. {cluster.split('/')[-1]}\")\n",
    "        cluster_number = int(input(\"Enter the number of the cluster to use: \"))\n",
    "        cluster_arn = clusters[cluster_number - 1]\n",
    "        cluster_name = cluster_arn.split('/')[-1]\n",
    "        print(f\"Selected ECS cluster: {cluster_name}\")\n",
    "    try:\n",
    "        services = fargate_client.list_services(cluster=cluster_arn)[\"serviceArns\"]\n",
    "        if len(services) > 0:\n",
    "            print(\"Services in the selected cluster:\")\n",
    "            for i, service in enumerate(services):\n",
    "                print(f\"{i+1}. {service.split('/')[-1]}\")\n",
    "            service_number = int(input(\"Enter the number of the service to restart: \"))\n",
    "            service_arn = services[service_number - 1]\n",
    "            print(f\"Restarting service {service_arn.split('/')[-1]}...\")\n",
    "            response = fargate_client.update_service(cluster=cluster_arn, service=service_arn, forceNewDeployment=True)\n",
    "            print(\"Service restarted successfully.\")\n",
    "        else:\n",
    "            print(\"Error: No services found in the selected cluster.\")\n",
    "            sys.exit()\n",
    "    except:\n",
    "        print(\"Error: Failed to list services or restart service.\")\n",
    "        sys.exit()\n"
   ]
  },
  {
   "attachments": {},
   "cell_type": "markdown",
   "metadata": {},
   "source": [
    "This function lists all available ECS clusters using the fargate_client.list_clusters() method of the ECS client. It prompts the user to choose a specific cluster by entering the corresponding number.\n",
    "\n",
    "Then it retrieves all services in the selected cluster using the fargate_client.list_services() method of the ECS client. It prompts the user to choose a specific service to restart by entering the corresponding number.\n",
    "\n",
    "Finally, it restarts the chosen service using the fargate_client.update_service() method of the ECS client with the forceNewDeployment=True parameter.\n",
    "\n",
    "The function handles various errors that might occur while listing services or restarting a service, and it prints appropriate error messages.\n",
    "\n",
    "The AWS CLI calls used in this function are:\n",
    "\n",
    "    fargate_client.list_clusters(): This call lists all available ECS clusters.\n",
    "    fargate_client.list_services(cluster=cluster_arn): This call lists all services in a particular cluster.\n",
    "    fargate_client.update_service(cluster=cluster_arn, service=service_arn, forceNewDeployment=True): This call restarts a particular service in a cluster."
   ]
  },
  {
   "attachments": {},
   "cell_type": "markdown",
   "metadata": {},
   "source": [
    "## test_service_restart"
   ]
  },
  {
   "cell_type": "code",
   "execution_count": null,
   "metadata": {},
   "outputs": [],
   "source": [
    "# Test service restart\n",
    "def test_service_restart(session):\n",
    "    \"\"\"\n",
    "    Test service restart by checking the deployment status of the latest task in the selected service.\n",
    "    Repeat the check until the deployment is active or a timeout occurs.\n",
    "    \"\"\"\n",
    "    fargate_client = session.client(\"ecs\")\n",
    "    task_arnc = None\n",
    "    timeout_seconds = 300\n",
    "    start_time = time.time()\n",
    "    while True:\n",
    "        try:\n",
    "            task = fargate_client.list_tasks(cluster=cluster_arn, serviceName=service_arn)[\"taskArns\"][0]\n",
    "            if task != task_arnc:\n",
    "                task_arnc = task\n",
    "                task_details = fargate_client.describe_tasks(cluster=cluster_arn, tasks=[task_arnc])[\"tasks\"][0]\n",
    "                task_status = task_details[\"lastStatus\"]\n",
    "                if task_status == \"RUNNING\":\n",
    "                    print(\"Service restart test passed.\")\n",
    "                    break\n",
    "                elif task_status == \"STOPPED\":\n",
    "                    reason = task_details[\"stoppedReason\"]\n",
    "                    print(f\"Error: Service restart failed. Task stopped with reason: {reason}\")\n",
    "                    break\n",
    "            else:\n",
    "                time.sleep(5)\n",
    "            if time.time() - start_time > timeout_seconds:\n",
    "                print(\"Error: Service restart test timed out.\")\n",
    "                break\n",
    "        except:\n",
    "            print(\"Error: Failed to test service restart.\")\n",
    "            sys.exit()\n"
   ]
  },
  {
   "attachments": {},
   "cell_type": "markdown",
   "metadata": {},
   "source": [
    "This function tests the service restart by checking the deployment status of the latest task in the selected service. It uses the fargate_client.list_tasks() method of the ECS client to retrieve the latest task in the selected service, and the fargate_client.describe_tasks() method to retrieve details of the task.\n",
    "\n",
    "It repeats the check until the deployment is active (i.e., the lastStatus of the task is \"RUNNING\") or a timeout occurs. The timeout value is set to 300 seconds by default, but it can be changed if needed.\n",
    "\n",
    "The function handles various errors that might occur while testing the service restart, and it prints appropriate error messages.\n",
    "\n",
    "The AWS CLI calls used in this function are:\n",
    "\n",
    "    fargate_client.list_tasks(cluster=cluster_arn, serviceName=service_arn): This call lists the tasks in a specific service in a cluster.\n",
    "    fargate_client.describe_tasks(cluster=cluster_arn, tasks=[task_arnc]): This call describes a specific task in a cluster.\n",
    "\n"
   ]
  }
 ],
 "metadata": {
  "language_info": {
   "name": "python"
  },
  "orig_nbformat": 4
 },
 "nbformat": 4,
 "nbformat_minor": 2
}
